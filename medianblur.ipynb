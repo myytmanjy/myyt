{
 "cells": [
  {
   "cell_type": "code",
   "execution_count": null,
   "metadata": {},
   "outputs": [],
   "source": [
    "[Coding]:\t\t\t\n",
    "1. \n",
    "#    Finish 2D convolution/filtering by your self. \n",
    "#    What you are supposed to do can be described as \"median blur\", which means by using a sliding window \n",
    "#    on an image, your task is not going to do a normal convolution, but to find the median value within \n",
    "#    that crop.\n",
    "#\n",
    "#    You can assume your input has only one channel. (a.k.a a normal 2D list/vector)\n",
    "#    And you do need to consider the padding method and size. There are 2 padding ways: REPLICA & ZERO. When \n",
    "#    \"REPLICA\" is given to you, the padded pixels are same with the border pixels. E.g is [1 2 3] is your\n",
    "#    image, the padded version will be [(...1 1) 1 2 3 (3 3...)] where how many 1 & 3 in the parenthesis \n",
    "#    depends on your padding size. When \"ZERO\", the padded version will be [(...0 0) 1 2 3 (0 0...)]\n",
    "#\n",
    "#    Assume your input's size of the image is W x H, kernel size's m x n. You may first complete a version \n",
    "#    with O(W·H·m·n log(m·n)) to O(W·H·m·n·m·n)).\n",
    "#    Follow up 1: Can it be completed in a shorter time complexity?\n",
    "#\n",
    "#    Python version:\n",
    "#    def medianBlur(img, kernel, padding_way):\n",
    "#        img & kernel is List of List; padding_way a string\n",
    "#        Please finish your code under this blank"
   ]
  },
  {
   "cell_type": "code",
   "execution_count": 3,
   "metadata": {},
   "outputs": [],
   "source": [
    "import cv2\n",
    "import numpy as np\n",
    "img = cv2.imread('lenna.jpg',0)\n",
    "cv2.imshow('lenna',img)\n",
    "key = cv2.waitKey()\n",
    "if key == 27:\n",
    "    cv2.destroyAllWindows()"
   ]
  },
  {
   "cell_type": "code",
   "execution_count": 21,
   "metadata": {},
   "outputs": [],
   "source": [
    "import cv2\n",
    "import numpy as np\n",
    "fn=\"lenna.jpg\"\n",
    "myimg=cv2.imread(fn)\n",
    "img=cv2.cvtColor(myimg,cv2.COLOR_BGR2GRAY)\n",
    " \n",
    "#加上椒盐噪声\n",
    "#灰阶范围\n",
    "w=img.shape[1]\n",
    "h=img.shape[0]\n",
    "newimg=np.array(img)\n",
    "#噪声点数量\n",
    "noisecount=5000\n",
    "for k in range(0,noisecount):\n",
    "    xi=int(np.random.uniform(0,newimg.shape[1]))\n",
    "    xj=int(np.random.uniform(0,newimg.shape[0]))\n",
    "    newimg[xj,xi]=0\n",
    " \n",
    " \n",
    "#滤波去噪\n",
    "lbimg=cv2.medianBlur(newimg,3)\n",
    "cv2.imshow('src',newimg)\n",
    "key = cv2.waitKey()\n",
    "if key == 27:\n",
    "    cv2.destroyAllWindows()\n",
    "cv2.imshow('dst',lbimg)\n",
    "key = cv2.waitKey()\n",
    "if key == 27:\n",
    "    cv2.destroyAllWindows()      \n"
   ]
  },
  {
   "cell_type": "code",
   "execution_count": 20,
   "metadata": {},
   "outputs": [],
   "source": [
    "import cv2\n",
    "import numpy as np\n",
    "fn=\"lenna.jpg\"\n",
    "myimg=cv2.imread(fn)\n",
    "img=cv2.cvtColor(myimg,cv2.COLOR_BGR2GRAY)\n",
    " \n",
    "#加上椒盐噪声\n",
    "#灰阶范围\n",
    "w=img.shape[1]\n",
    "h=img.shape[0]\n",
    "lbimg1=np.array(img)\n",
    "#噪声点数量\n",
    "noisecount=5000\n",
    "for k in range(0,noisecount):\n",
    "    xi=int(np.random.uniform(0,w))\n",
    "    xj=int(np.random.uniform(0,h))\n",
    "    img[xj,xi]=255\n",
    " \n",
    " \n",
    "#滤波去噪\n",
    "for y in range(1,h-1):\n",
    "    for x in range(1,w-1):\n",
    "        lbimg1[y,x]=np.median(img[y-1:y+2,x-1:x+2])\n",
    "cv2.imshow('src1',img)\n",
    "key = cv2.waitKey()\n",
    "if key == 27:\n",
    "    cv2.destroyAllWindows()\n",
    "cv2.imshow('dst1',lbimg1)\n",
    "key = cv2.waitKey()\n",
    "if key == 27:\n",
    "    cv2.destroyAllWindows()      "
   ]
  },
  {
   "cell_type": "code",
   "execution_count": 47,
   "metadata": {},
   "outputs": [],
   "source": [
    "np.pad?"
   ]
  },
  {
   "cell_type": "code",
   "execution_count": 46,
   "metadata": {},
   "outputs": [
    {
     "name": "stdout",
     "output_type": "stream",
     "text": [
      "[[  0   0   0 ...   0   0   0]\n",
      " [  0 172 172 ... 180 149   0]\n",
      " [  0 171 171 ... 185 156   0]\n",
      " ...\n",
      " [  0  22  31 ...  86  90   0]\n",
      " [  0  21  31 ...  96  98   0]\n",
      " [  0   0   0 ...   0   0   0]]\n",
      "[[172 172 172 ... 180 149 149]\n",
      " [172 172 172 ... 180 149 149]\n",
      " [171 171 171 ... 185 156 156]\n",
      " ...\n",
      " [ 22  22  31 ...  86  90  90]\n",
      " [ 21  21  31 ...  96  98  98]\n",
      " [ 21  21  31 ...  96  98  98]]\n"
     ]
    }
   ],
   "source": [
    "import cv2\n",
    "import numpy as np\n",
    "fn=\"lenna.jpg\"\n",
    "myimg=cv2.imread(fn)\n",
    "img=cv2.cvtColor(myimg,cv2.COLOR_BGR2GRAY)\n",
    "img_pad1 = np.pad(img,((1,1),(1,1)),'constant',constant_values=(0,0))\n",
    "print(img_pad1)\n",
    "img_pad2 = np.pad(img,((1,1),(1,1)),'edge')\n",
    "print(img_pad2)"
   ]
  },
  {
   "cell_type": "code",
   "execution_count": 50,
   "metadata": {},
   "outputs": [],
   "source": [
    "import cv2\n",
    "import numpy as np\n",
    "fn=\"lenna.jpg\"\n",
    "myimg=cv2.imread(fn)\n",
    "img=cv2.cvtColor(myimg,cv2.COLOR_BGR2GRAY)\n",
    "img_pad = np.pad(img,((1,1),(1,1)),'constant',constant_values=(0,0))\n",
    "#加上椒盐噪声\n",
    "#灰阶范围\n",
    "w=img_pad.shape[1]\n",
    "h=img_pad.shape[0]\n",
    "lbimg1=np.array(img_pad)\n",
    "#噪声点数量\n",
    "noisecount=5000\n",
    "for k in range(0,noisecount):\n",
    "    xi=int(np.random.uniform(0,w))\n",
    "    xj=int(np.random.uniform(0,h))\n",
    "    img_pad[xj,xi]=255\n",
    "\n",
    "#滤波去噪\n",
    "for y in range(1,h-1):\n",
    "    for x in range(1,w-1):\n",
    "        lbimg1[y,x]=np.median(img[y-1:y+2,x-1:x+2])\n",
    "cv2.imshow('src1',img_pad)\n",
    "key = cv2.waitKey()\n",
    "if key == 27:\n",
    "    cv2.destroyAllWindows()\n",
    "cv2.imshow('dst1',lbimg1)\n",
    "key = cv2.waitKey()\n",
    "if key == 27:\n",
    "    cv2.destroyAllWindows()      "
   ]
  },
  {
   "cell_type": "code",
   "execution_count": 29,
   "metadata": {},
   "outputs": [
    {
     "name": "stdout",
     "output_type": "stream",
     "text": [
      "[[10  7  4]\n",
      " [ 3  2  1]]\n",
      "[[ 0  0  0  0  0]\n",
      " [ 0 10  7  4  0]\n",
      " [ 0  3  2  1  0]\n",
      " [ 0  0  0  0  0]]\n"
     ]
    }
   ],
   "source": [
    "a = np.array([[10, 7, 4], [3, 2, 1]])\n",
    "print(a)\n",
    "padding_a = np.array([[0,0,0,0,0],[0,10,7,4,0],[0,3,2,1,0],[0,0,0,0,0]])\n",
    "print(padding_a)"
   ]
  },
  {
   "cell_type": "code",
   "execution_count": 16,
   "metadata": {},
   "outputs": [],
   "source": [
    "np.median?"
   ]
  },
  {
   "cell_type": "code",
   "execution_count": 25,
   "metadata": {},
   "outputs": [
    {
     "name": "stdout",
     "output_type": "stream",
     "text": [
      "218 218\n",
      "[[55 70 76]\n",
      " [73 86 90]\n",
      " [85 96 98]]\n",
      "85.0\n"
     ]
    }
   ],
   "source": [
    "import cv2\n",
    "import numpy as np\n",
    "fn=\"lenna.jpg\"\n",
    "myimg=cv2.imread(fn)\n",
    "img=cv2.cvtColor(myimg,cv2.COLOR_BGR2GRAY)\n",
    "print(x,y)\n",
    "print(img[y-1:y+2,x-1:x+2])\n",
    "print(np.median(img[y-1:y+2,x-1:x+2]))"
   ]
  },
  {
   "cell_type": "code",
   "execution_count": 59,
   "metadata": {},
   "outputs": [
    {
     "name": "stdout",
     "output_type": "stream",
     "text": [
      "[[  0   0   0 ...   0   0   0]\n",
      " [  0   0 171 ... 156   0   0]\n",
      " [  0 169 171 ... 156 119   0]\n",
      " ...\n",
      " [  0  22  29 ...  85  76   0]\n",
      " [  0   0  22 ...  85   0   0]\n",
      " [  0   0   0 ...   0   0   0]]\n",
      "[[  0 171 170 ... 131 156   0]\n",
      " [169 171 170 ... 140 156 119]\n",
      " [167 169 168 ... 130 119  28]\n",
      " ...\n",
      " [ 25  29  30 ...  57  70  70]\n",
      " [ 22  29  30 ...  73  85  76]\n",
      " [  0  22  29 ...  73  85   0]]\n"
     ]
    }
   ],
   "source": [
    "import cv2\n",
    "import numpy as np\n",
    "img = cv2.imread('lenna.jpg',0)\n",
    "cv2.imshow('lenna',img)\n",
    "key = cv2.waitKey()\n",
    "if key == 27:\n",
    "    cv2.destroyAllWindows()  \n",
    "img_pad0 = np.pad(img,((1,1),(1,1)),'constant',constant_values=(0,0))\n",
    "w=img_pad0.shape[1]\n",
    "h=img_pad0.shape[0]\n",
    "lbimg0=np.array(img_pad0)\n",
    "#噪声点数量\n",
    "noisecount=500\n",
    "for k in range(0,noisecount):\n",
    "    xi=int(np.random.uniform(0,w))\n",
    "    xj=int(np.random.uniform(0,h))\n",
    "    img_pad0[xj,xi]=255\n",
    "for y in range(1,h-1):\n",
    "    for x in range(1,w-1):\n",
    "        lbimg0[y,x]=np.median(img_pad0[y-1:y+2,x-1:x+2])\n",
    "print(lbimg0)\n",
    "lb_w = lbimg0.shape[1]\n",
    "lb_h = lbimg0.shape[0]\n",
    "lbimg = lbimg0[1:lb_w-1,1:lb_h-1 ]\n",
    "print(lbimg)\n",
    "cv2.imshow('img_pad0',img_pad0)\n",
    "key = cv2.waitKey()\n",
    "if key == 27:\n",
    "    cv2.destroyAllWindows()\n",
    "cv2.imshow('lbimg0',lbimg0)\n",
    "key = cv2.waitKey()\n",
    "if key == 27:\n",
    "    cv2.destroyAllWindows()\n",
    "cv2.imshow('lbimg',lbimg)\n",
    "key = cv2.waitKey()\n",
    "if key == 27:\n",
    "    cv2.destroyAllWindows() "
   ]
  }
 ],
 "metadata": {
  "kernelspec": {
   "display_name": "Python 3",
   "language": "python",
   "name": "python3"
  },
  "language_info": {
   "codemirror_mode": {
    "name": "ipython",
    "version": 3
   },
   "file_extension": ".py",
   "mimetype": "text/x-python",
   "name": "python",
   "nbconvert_exporter": "python",
   "pygments_lexer": "ipython3",
   "version": "3.7.1"
  }
 },
 "nbformat": 4,
 "nbformat_minor": 2
}
